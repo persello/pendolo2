{
 "cells": [
  {
   "cell_type": "markdown",
   "metadata": {},
   "source": [
    "# Misura del momento d'inerzia di un pendolo composto\n",
    "## Setup dell'ambiente di lavoro"
   ]
  },
  {
   "cell_type": "code",
   "execution_count": 1,
   "metadata": {},
   "outputs": [],
   "source": [
    "import matplotlib\n",
    "import matplotlib.pyplot as plt\n",
    "import pandas as pd\n",
    "import numpy as numpy\n",
    "from scipy.optimize import curve_fit\n",
    "import math\n",
    "\n",
    "matplotlib.use(\"pgf\")\n",
    "matplotlib.rcParams.update({\n",
    "    \"pgf.texsystem\": \"pdflatex\",\n",
    "    'text.usetex': True,\n",
    "    'pgf.rcfonts': False,\n",
    "})"
   ]
  },
  {
   "cell_type": "markdown",
   "metadata": {},
   "source": [
    "## Importazione dei dati\n",
    "Importiamo i dati da un file CSV ottenuto a partire da quello fornito."
   ]
  },
  {
   "cell_type": "code",
   "execution_count": 2,
   "metadata": {},
   "outputs": [],
   "source": [
    "pendolo_df = pd.read_csv('Dati_pronti.csv', sep=';', decimal=',')\n",
    "\n",
    "distanza_d = pendolo_df['distanza_d'].dropna()\n",
    "periodo = pendolo_df['periodo'].dropna()\n",
    "distanza_r = pendolo_df['distanza_r'].dropna()\n",
    "\n",
    "massa_pendolo = pendolo_df['massa_pendolo'][0]\n",
    "lunghezza_sbarra= pendolo_df['lunghezza_asta'][0]\n",
    "massa_mobile = pendolo_df['massa_mobile'][0]\n",
    "massa_fissa = pendolo_df['massa_fissa'][0]\n",
    "df = pendolo_df['df'][0]\n",
    "ds = pendolo_df['ds'][0]\n",
    "raggio_dischi = pendolo_df['raggio_dischi'][0]"
   ]
  },
  {
   "cell_type": "markdown",
   "metadata": {},
   "source": [
    "## Metodo 1\n",
    "### Calcolo "
   ]
  },
  {
   "cell_type": "code",
   "execution_count": 3,
   "metadata": {},
   "outputs": [],
   "source": [
    "def calcola_momento_inerzia(M, g, r, T):\n",
    "    return (M * g * r * T ** 2) / (4 * math.pi ** 2)\n",
    "\n",
    "momento_inerzia = calcola_momento_inerzia(massa_pendolo, 9.81, distanza_r, periodo)"
   ]
  },
  {
   "cell_type": "markdown",
   "metadata": {},
   "source": [
    "### Errore"
   ]
  },
  {
   "cell_type": "code",
   "execution_count": 4,
   "metadata": {},
   "outputs": [],
   "source": [
    "def calcola_sigma2_i(g, T, r, M, sigma_m, sigma_t, sigma_r):\n",
    "    return ((g / (4 * (math.pi ** 2))) ** 2) * ((T ** 4) * (r ** 2) * (sigma_m ** 2) +\n",
    "                                            4 * (M ** 2) * (T ** 2) * (r ** 2) * (sigma_t ** 2) +\n",
    "                                            (M ** 2) * (T ** 4) * (sigma_r ** 2))\n",
    "\n",
    "sigma_i = numpy.sqrt(calcola_sigma2_i(9.81, periodo, distanza_r, massa_pendolo, 0.001, 0.01, 0.001))"
   ]
  },
  {
   "cell_type": "markdown",
   "metadata": {},
   "source": [
    "### Grafico"
   ]
  },
  {
   "cell_type": "code",
   "execution_count": 5,
   "metadata": {},
   "outputs": [],
   "source": [
    "func_x = numpy.linspace(0.1, 0.9, 1000)\n",
    "\n",
    "def parabola(x, a, b, c):\n",
    "    return a * (x ** 2) + b * x + c\n",
    "\n",
    "fitted_params, var_matrix = curve_fit(parabola, distanza_d, momento_inerzia)\n",
    "\n",
    "func_y = parabola(func_x, fitted_params[0], fitted_params[1], fitted_params[2])\n",
    "\n",
    "plt.plot(func_x, func_y, 'r--', zorder=2, label='Fit quadratico')\n",
    "plt.errorbar(distanza_d, momento_inerzia, yerr=sigma_i,\n",
    "            ecolor='xkcd:black', capsize=5, fmt='k', zorder=1, label=\"Momento d'inerzia (metodo 1)\",\n",
    "            ls='none')\n",
    "\n",
    "plt.legend(loc='upper left', shadow=True)                \n",
    "plt.xlabel(r\"Distanza $d$ ($m$)\")\n",
    "plt.ylabel(r\"Momento d'inerzia $I$ ($kg \\cdot m^2$)\")\n",
    "plt.title(r\"Momento d'inerzia del pendolo al variare della distanza $d$\")\n",
    "\n",
    "plt.savefig('metodo1.pgf')\n",
    "\n",
    "plt.show()\n",
    "plt.close()\n"
   ]
  },
  {
   "cell_type": "markdown",
   "metadata": {},
   "source": [
    "## Metodo 2\n",
    "### Calcolo"
   ]
  },
  {
   "cell_type": "code",
   "execution_count": 6,
   "metadata": {},
   "outputs": [],
   "source": [
    "def calcola_momento_inerzia2(m_s, L, d_s, m_d, r_d, d_f, d):\n",
    "    return (1/12) * m_s * (L ** 2) + m_s * (d_s ** 2) + m_d * (r_d ** 2) + m_d * (d_f ** 2) + m_d * (d              ** 2)\n",
    "\n",
    "massa_sbarra = massa_pendolo - (massa_fissa + massa_mobile)\n",
    "\n",
    "momento_inerzia = calcola_momento_inerzia2(massa_sbarra, lunghezza_sbarra, ds, massa_mobile, raggio_dischi, df, distanza_d)"
   ]
  },
  {
   "cell_type": "markdown",
   "metadata": {},
   "source": [
    "### Grafico"
   ]
  },
  {
   "cell_type": "code",
   "execution_count": 7,
   "metadata": {},
   "outputs": [],
   "source": [
    "func_x = numpy.linspace(0.1, 0.9, 1000)\n",
    "\n",
    "plt.plot(func_x,\n",
    "         calcola_momento_inerzia2(massa_sbarra, lunghezza_sbarra, ds, massa_mobile, raggio_dischi, df,          func_x), label=\"Momento d'inerzia (metodo 2)\")\n",
    "\n",
    "plt.legend(loc='upper left', shadow=True)                \n",
    "plt.xlabel(r\"Distanza $d$ ($m$)\")\n",
    "plt.ylabel(r\"Momento d'inerzia $I$ ($kg \\cdot m^2$)\")\n",
    "plt.title(r\"Momento d'inerzia del pendolo al variare della distanza $d$ (confronto)\")\n",
    "\n",
    "plt.savefig('metodi12.pgf')\n",
    "\n",
    "plt.show()\n",
    "plt.close()"
   ]
  },
  {
   "cell_type": "code",
   "execution_count": null,
   "metadata": {},
   "outputs": [],
   "source": []
  }
 ],
 "metadata": {
  "language_info": {
   "codemirror_mode": {
    "name": "ipython",
    "version": 3
   },
   "file_extension": ".py",
   "mimetype": "text/x-python",
   "name": "python",
   "nbconvert_exporter": "python",
   "pygments_lexer": "ipython3",
   "version": "3.7.7-final"
  },
  "orig_nbformat": 2,
  "kernelspec": {
   "name": "python37764bitda7cca437ed84374bd4ea52f3180d227",
   "display_name": "Python 3.7.7 64-bit"
  }
 },
 "nbformat": 4,
 "nbformat_minor": 2
}